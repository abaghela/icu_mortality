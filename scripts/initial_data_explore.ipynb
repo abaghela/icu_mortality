{
 "cells": [
  {
   "cell_type": "markdown",
   "metadata": {},
   "source": [
    "### EDA notebook to explore the WiDS ICU mortality data."
   ]
  },
  {
   "cell_type": "code",
   "execution_count": 2,
   "metadata": {},
   "outputs": [
    {
     "data": {
      "text/plain": [
       "'/mnt/analysis2/physionet_projects/icu_mortality'"
      ]
     },
     "execution_count": 2,
     "metadata": {},
     "output_type": "execute_result"
    }
   ],
   "source": [
    "# Load packages\n",
    "import pandas as pd\n",
    "import matplotlib.pyplot as plt\n",
    "import os\n",
    "os.chdir(\"/mnt/analysis2/physionet_projects/icu_mortality/\")\n",
    "os.getcwd()"
   ]
  },
  {
   "cell_type": "code",
   "execution_count": 3,
   "metadata": {},
   "outputs": [],
   "source": [
    "# Read in data \n",
    "dat = pd.read_csv(\"./raw_data/widsdatathon2020/training_v2.csv\")"
   ]
  },
  {
   "cell_type": "markdown",
   "metadata": {},
   "source": [
    "Get some basic information about the dataset"
   ]
  },
  {
   "cell_type": "code",
   "execution_count": 4,
   "metadata": {},
   "outputs": [
    {
     "name": "stdout",
     "output_type": "stream",
     "text": [
      "Dimensions:  (91713, 186)\n",
      "Some column names:  encounter_id, patient_id, hospital_id, hospital_death, age, leukemia, lymphoma, solid_tumor_with_metastasis, apache_3j_bodysystem, apache_2_bodysystem\n",
      "Number of unique patients:  91713\n",
      "Percent of patients who died: = 8.63\n"
     ]
    }
   ],
   "source": [
    "# The dimensions\n",
    "print(\"Dimensions: \", dat.shape)\n",
    "\n",
    "# Get some column names \n",
    "print(\"Some column names: \", \", \".join(list(dat.iloc[:, list(range(0,5)) +  list(range(-5,0))].columns)) )\n",
    "\n",
    "# Number of unqiue patients\n",
    "print(\"Number of unique patients: \", dat[\"patient_id\"].nunique())\n",
    "\n",
    "# How many patients died and survived\n",
    "outcome_no = dat[\"hospital_death\"].value_counts()\n",
    "print(f'Percent of patients who died: = {100*(outcome_no[1]/sum(list(outcome_no))):.2f}')"
   ]
  },
  {
   "cell_type": "markdown",
   "metadata": {},
   "source": [
    "There are some very relevant severity scores and risk factors to plot. "
   ]
  },
  {
   "cell_type": "code",
   "execution_count": 5,
   "metadata": {},
   "outputs": [
    {
     "data": {
      "text/plain": [
       "Index(['age', 'bmi', 'elective_surgery', 'height', 'pre_icu_los_days',\n",
       "       'readmission_status', 'weight', 'albumin_apache', 'apache_2_diagnosis',\n",
       "       'apache_3j_diagnosis',\n",
       "       ...\n",
       "       'apache_4a_hospital_death_prob', 'apache_4a_icu_death_prob', 'aids',\n",
       "       'cirrhosis', 'diabetes_mellitus', 'hepatic_failure',\n",
       "       'immunosuppression', 'leukemia', 'lymphoma',\n",
       "       'solid_tumor_with_metastasis'],\n",
       "      dtype='object', length=173)"
      ]
     },
     "execution_count": 5,
     "metadata": {},
     "output_type": "execute_result"
    }
   ],
   "source": [
    "# Numeric columns\n",
    "numerics = ['int16', 'int32', 'int64', 'float16', 'float32', 'float64']\n",
    "dat.drop(columns = [\"encounter_id\", 'patient_id', \"hospital_id\",'hospital_death', \"icu_id\"]).\\\n",
    "select_dtypes(include=numerics).\\\n",
    "columns\n"
   ]
  },
  {
   "cell_type": "markdown",
   "metadata": {},
   "source": [
    "Let's plot some key clinical parameters and how they relate to mortality."
   ]
  },
  {
   "cell_type": "code",
   "execution_count": 6,
   "metadata": {},
   "outputs": [],
   "source": [
    "dat = dat.assign(hospital_death = ['survived' if a == 0 else 'died' for a in dat['hospital_death']])"
   ]
  },
  {
   "cell_type": "code",
   "execution_count": 8,
   "metadata": {},
   "outputs": [
    {
     "data": {
      "text/plain": [
       "0        survived\n",
       "1        survived\n",
       "2        survived\n",
       "3        survived\n",
       "4        survived\n",
       "           ...   \n",
       "91708    survived\n",
       "91709    survived\n",
       "91710    survived\n",
       "91711    survived\n",
       "91712    survived\n",
       "Name: hospital_death, Length: 91713, dtype: object"
      ]
     },
     "execution_count": 8,
     "metadata": {},
     "output_type": "execute_result"
    }
   ],
   "source": [
    "dat[\"hospital_death\"]"
   ]
  },
  {
   "cell_type": "code",
   "execution_count": null,
   "metadata": {},
   "outputs": [],
   "source": [
    "# Remove patients with missing data \n",
    "\n",
    "# Impute\n",
    "\n",
    "# Model"
   ]
  }
 ],
 "metadata": {
  "kernelspec": {
   "display_name": "Python 3",
   "language": "python",
   "name": "python3"
  },
  "language_info": {
   "codemirror_mode": {
    "name": "ipython",
    "version": 3
   },
   "file_extension": ".py",
   "mimetype": "text/x-python",
   "name": "python",
   "nbconvert_exporter": "python",
   "pygments_lexer": "ipython3",
   "version": "3.6.8"
  }
 },
 "nbformat": 4,
 "nbformat_minor": 5
}
