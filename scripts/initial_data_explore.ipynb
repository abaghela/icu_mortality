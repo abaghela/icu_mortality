{
 "cells": [
  {
   "cell_type": "markdown",
   "id": "structural-cholesterol",
   "metadata": {},
   "source": [
    "### EDA notebook to explore the WiDS ICU mortality data."
   ]
  },
  {
   "cell_type": "code",
   "execution_count": 94,
   "id": "major-roberts",
   "metadata": {},
   "outputs": [],
   "source": [
    "# Load packages\n",
    "import pandas as pd\n",
    "import matplotlib.pyplot as plt\n",
    "import os\n",
    "os.chdir(\"/Users/abaghela/my_things/physionet_projects/icu_mortality/\")"
   ]
  },
  {
   "cell_type": "code",
   "execution_count": 2,
   "id": "colored-brazil",
   "metadata": {},
   "outputs": [],
   "source": [
    "# Read in data \n",
    "dat = pd.read_csv(\"./raw_data/widsdatathon2020/training_v2.csv\")"
   ]
  },
  {
   "cell_type": "markdown",
   "id": "outer-period",
   "metadata": {},
   "source": [
    "Get some basic information about the dataset"
   ]
  },
  {
   "cell_type": "code",
   "execution_count": 73,
   "id": "congressional-raise",
   "metadata": {},
   "outputs": [
    {
     "name": "stdout",
     "output_type": "stream",
     "text": [
      "Dimensions:  (91713, 186)\n",
      "Some column names:  encounter_id, patient_id, hospital_id, hospital_death, age, leukemia, lymphoma, solid_tumor_with_metastasis, apache_3j_bodysystem, apache_2_bodysystem\n",
      "Number of unique patients:  91713\n",
      "Percent of patients who died: = 8.63\n"
     ]
    }
   ],
   "source": [
    "# The dimensions\n",
    "print(\"Dimensions: \", dat.shape)\n",
    "\n",
    "# Get some column names \n",
    "print(\"Some column names: \", \", \".join(list(dat.iloc[:, list(range(0,5)) +  list(range(-5,0))].columns)) )\n",
    "\n",
    "# Number of unqiue patients\n",
    "print(\"Number of unique patients: \", dat[\"patient_id\"].nunique())\n",
    "\n",
    "# How many patients died and survived\n",
    "outcome_no = dat[\"hospital_death\"].value_counts()\n",
    "print(f'Percent of patients who died: = {100*(outcome_no[1]/sum(list(outcome_no))):.2f}')"
   ]
  },
  {
   "cell_type": "markdown",
   "id": "limited-classification",
   "metadata": {},
   "source": [
    "There are some very relevant severity scores and risk factors to plot. "
   ]
  },
  {
   "cell_type": "code",
   "execution_count": 93,
   "id": "lined-motel",
   "metadata": {},
   "outputs": [
    {
     "data": {
      "text/plain": [
       "['age',\n",
       " 'bmi',\n",
       " 'elective_surgery',\n",
       " 'height',\n",
       " 'pre_icu_los_days',\n",
       " 'readmission_status',\n",
       " 'weight',\n",
       " 'albumin_apache',\n",
       " 'apache_2_diagnosis',\n",
       " 'apache_3j_diagnosis',\n",
       " 'apache_post_operative',\n",
       " 'arf_apache',\n",
       " 'bilirubin_apache',\n",
       " 'bun_apache',\n",
       " 'creatinine_apache',\n",
       " 'fio2_apache',\n",
       " 'gcs_eyes_apache',\n",
       " 'gcs_motor_apache',\n",
       " 'gcs_unable_apache',\n",
       " 'gcs_verbal_apache',\n",
       " 'glucose_apache',\n",
       " 'heart_rate_apache',\n",
       " 'hematocrit_apache',\n",
       " 'intubated_apache',\n",
       " 'map_apache',\n",
       " 'paco2_apache',\n",
       " 'paco2_for_ph_apache',\n",
       " 'pao2_apache',\n",
       " 'ph_apache',\n",
       " 'resprate_apache',\n",
       " 'sodium_apache',\n",
       " 'temp_apache',\n",
       " 'urineoutput_apache',\n",
       " 'ventilated_apache',\n",
       " 'wbc_apache',\n",
       " 'd1_diasbp_invasive_max',\n",
       " 'd1_diasbp_invasive_min',\n",
       " 'd1_diasbp_max',\n",
       " 'd1_diasbp_min',\n",
       " 'd1_diasbp_noninvasive_max',\n",
       " 'd1_diasbp_noninvasive_min',\n",
       " 'd1_heartrate_max',\n",
       " 'd1_heartrate_min',\n",
       " 'd1_mbp_invasive_max',\n",
       " 'd1_mbp_invasive_min',\n",
       " 'd1_mbp_max',\n",
       " 'd1_mbp_min',\n",
       " 'd1_mbp_noninvasive_max',\n",
       " 'd1_mbp_noninvasive_min',\n",
       " 'd1_resprate_max',\n",
       " 'd1_resprate_min',\n",
       " 'd1_spo2_max',\n",
       " 'd1_spo2_min',\n",
       " 'd1_sysbp_invasive_max',\n",
       " 'd1_sysbp_invasive_min',\n",
       " 'd1_sysbp_max',\n",
       " 'd1_sysbp_min',\n",
       " 'd1_sysbp_noninvasive_max',\n",
       " 'd1_sysbp_noninvasive_min',\n",
       " 'd1_temp_max',\n",
       " 'd1_temp_min',\n",
       " 'h1_diasbp_invasive_max',\n",
       " 'h1_diasbp_invasive_min',\n",
       " 'h1_diasbp_max',\n",
       " 'h1_diasbp_min',\n",
       " 'h1_diasbp_noninvasive_max',\n",
       " 'h1_diasbp_noninvasive_min',\n",
       " 'h1_heartrate_max',\n",
       " 'h1_heartrate_min',\n",
       " 'h1_mbp_invasive_max',\n",
       " 'h1_mbp_invasive_min',\n",
       " 'h1_mbp_max',\n",
       " 'h1_mbp_min',\n",
       " 'h1_mbp_noninvasive_max',\n",
       " 'h1_mbp_noninvasive_min',\n",
       " 'h1_resprate_max',\n",
       " 'h1_resprate_min',\n",
       " 'h1_spo2_max',\n",
       " 'h1_spo2_min',\n",
       " 'h1_sysbp_invasive_max',\n",
       " 'h1_sysbp_invasive_min',\n",
       " 'h1_sysbp_max',\n",
       " 'h1_sysbp_min',\n",
       " 'h1_sysbp_noninvasive_max',\n",
       " 'h1_sysbp_noninvasive_min',\n",
       " 'h1_temp_max',\n",
       " 'h1_temp_min',\n",
       " 'd1_albumin_max',\n",
       " 'd1_albumin_min',\n",
       " 'd1_bilirubin_max',\n",
       " 'd1_bilirubin_min',\n",
       " 'd1_bun_max',\n",
       " 'd1_bun_min',\n",
       " 'd1_calcium_max',\n",
       " 'd1_calcium_min',\n",
       " 'd1_creatinine_max',\n",
       " 'd1_creatinine_min',\n",
       " 'd1_glucose_max',\n",
       " 'd1_glucose_min',\n",
       " 'd1_hco3_max',\n",
       " 'd1_hco3_min',\n",
       " 'd1_hemaglobin_max',\n",
       " 'd1_hemaglobin_min',\n",
       " 'd1_hematocrit_max',\n",
       " 'd1_hematocrit_min',\n",
       " 'd1_inr_max',\n",
       " 'd1_inr_min',\n",
       " 'd1_lactate_max',\n",
       " 'd1_lactate_min',\n",
       " 'd1_platelets_max',\n",
       " 'd1_platelets_min',\n",
       " 'd1_potassium_max',\n",
       " 'd1_potassium_min',\n",
       " 'd1_sodium_max',\n",
       " 'd1_sodium_min',\n",
       " 'd1_wbc_max',\n",
       " 'd1_wbc_min',\n",
       " 'h1_albumin_max',\n",
       " 'h1_albumin_min',\n",
       " 'h1_bilirubin_max',\n",
       " 'h1_bilirubin_min',\n",
       " 'h1_bun_max',\n",
       " 'h1_bun_min',\n",
       " 'h1_calcium_max',\n",
       " 'h1_calcium_min',\n",
       " 'h1_creatinine_max',\n",
       " 'h1_creatinine_min',\n",
       " 'h1_glucose_max',\n",
       " 'h1_glucose_min',\n",
       " 'h1_hco3_max',\n",
       " 'h1_hco3_min',\n",
       " 'h1_hemaglobin_max',\n",
       " 'h1_hemaglobin_min',\n",
       " 'h1_hematocrit_max',\n",
       " 'h1_hematocrit_min',\n",
       " 'h1_inr_max',\n",
       " 'h1_inr_min',\n",
       " 'h1_lactate_max',\n",
       " 'h1_lactate_min',\n",
       " 'h1_platelets_max',\n",
       " 'h1_platelets_min',\n",
       " 'h1_potassium_max',\n",
       " 'h1_potassium_min',\n",
       " 'h1_sodium_max',\n",
       " 'h1_sodium_min',\n",
       " 'h1_wbc_max',\n",
       " 'h1_wbc_min',\n",
       " 'd1_arterial_pco2_max',\n",
       " 'd1_arterial_pco2_min',\n",
       " 'd1_arterial_ph_max',\n",
       " 'd1_arterial_ph_min',\n",
       " 'd1_arterial_po2_max',\n",
       " 'd1_arterial_po2_min',\n",
       " 'd1_pao2fio2ratio_max',\n",
       " 'd1_pao2fio2ratio_min',\n",
       " 'h1_arterial_pco2_max',\n",
       " 'h1_arterial_pco2_min',\n",
       " 'h1_arterial_ph_max',\n",
       " 'h1_arterial_ph_min',\n",
       " 'h1_arterial_po2_max',\n",
       " 'h1_arterial_po2_min',\n",
       " 'h1_pao2fio2ratio_max',\n",
       " 'h1_pao2fio2ratio_min',\n",
       " 'apache_4a_hospital_death_prob',\n",
       " 'apache_4a_icu_death_prob',\n",
       " 'aids',\n",
       " 'cirrhosis',\n",
       " 'diabetes_mellitus',\n",
       " 'hepatic_failure',\n",
       " 'immunosuppression',\n",
       " 'leukemia',\n",
       " 'lymphoma',\n",
       " 'solid_tumor_with_metastasis']"
      ]
     },
     "execution_count": 93,
     "metadata": {},
     "output_type": "execute_result"
    }
   ],
   "source": [
    "# Numeric columns\n",
    "numerics = ['int16', 'int32', 'int64', 'float16', 'float32', 'float64']\n",
    "dat.drop(columns = [\"encounter_id\", 'patient_id', \"hospital_id\",'hospital_death', \"icu_id\"]).\\\n",
    "select_dtypes(include=numerics).\\\n",
    "columns.tolist()\n"
   ]
  },
  {
   "cell_type": "code",
   "execution_count": 123,
   "id": "mathematical-writing",
   "metadata": {},
   "outputs": [
    {
     "data": {
      "text/plain": [
       "Caucasian           70684\n",
       "African American     9547\n",
       "Other/Unknown        4374\n",
       "Hispanic             3796\n",
       "Asian                1129\n",
       "Native American       788\n",
       "Name: ethnicity, dtype: int64"
      ]
     },
     "execution_count": 123,
     "metadata": {},
     "output_type": "execute_result"
    }
   ],
   "source": [
    "dat[\"ethnicity\"].value_counts()"
   ]
  },
  {
   "cell_type": "code",
   "execution_count": 111,
   "id": "caring-square",
   "metadata": {},
   "outputs": [
    {
     "data": {
      "text/plain": [
       "0        0\n",
       "1        0\n",
       "2        0\n",
       "3        0\n",
       "4        0\n",
       "        ..\n",
       "91708    0\n",
       "91709    0\n",
       "91710    0\n",
       "91711    0\n",
       "91712    0\n",
       "Name: hospital_death, Length: 91713, dtype: object"
      ]
     },
     "execution_count": 111,
     "metadata": {},
     "output_type": "execute_result"
    }
   ],
   "source": []
  },
  {
   "cell_type": "code",
   "execution_count": null,
   "id": "russian-detail",
   "metadata": {},
   "outputs": [],
   "source": []
  },
  {
   "cell_type": "code",
   "execution_count": null,
   "id": "jewish-michael",
   "metadata": {},
   "outputs": [],
   "source": []
  },
  {
   "cell_type": "code",
   "execution_count": null,
   "id": "south-proposal",
   "metadata": {},
   "outputs": [],
   "source": []
  },
  {
   "cell_type": "code",
   "execution_count": 20,
   "id": "cheap-pasta",
   "metadata": {},
   "outputs": [
    {
     "ename": "NameError",
     "evalue": "name 'shape' is not defined",
     "output_type": "error",
     "traceback": [
      "\u001b[0;31m---------------------------------------------------------------------------\u001b[0m",
      "\u001b[0;31mNameError\u001b[0m                                 Traceback (most recent call last)",
      "\u001b[0;32m<ipython-input-20-8ae9a22b4037>\u001b[0m in \u001b[0;36m<module>\u001b[0;34m\u001b[0m\n\u001b[0;32m----> 1\u001b[0;31m \u001b[0mshape\u001b[0m\u001b[0;34m\u001b[0m\u001b[0;34m\u001b[0m\u001b[0m\n\u001b[0m",
      "\u001b[0;31mNameError\u001b[0m: name 'shape' is not defined"
     ]
    }
   ],
   "source": []
  },
  {
   "cell_type": "code",
   "execution_count": null,
   "id": "modified-likelihood",
   "metadata": {},
   "outputs": [],
   "source": []
  }
 ],
 "metadata": {
  "kernelspec": {
   "display_name": "Python 3",
   "language": "python",
   "name": "python3"
  },
  "language_info": {
   "codemirror_mode": {
    "name": "ipython",
    "version": 3
   },
   "file_extension": ".py",
   "mimetype": "text/x-python",
   "name": "python",
   "nbconvert_exporter": "python",
   "pygments_lexer": "ipython3",
   "version": "3.7.7"
  }
 },
 "nbformat": 4,
 "nbformat_minor": 5
}
